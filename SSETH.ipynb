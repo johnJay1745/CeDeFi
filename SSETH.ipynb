{
  "nbformat": 4,
  "nbformat_minor": 0,
  "metadata": {
    "colab": {
      "private_outputs": true,
      "provenance": [],
      "collapsed_sections": [],
      "authorship_tag": "ABX9TyPhnTF3wT/r7OGjw51H4I2Q",
      "include_colab_link": true
    },
    "kernelspec": {
      "name": "python3",
      "display_name": "Python 3"
    },
    "language_info": {
      "name": "python"
    }
  },
  "cells": [
    {
      "cell_type": "markdown",
      "metadata": {
        "id": "view-in-github",
        "colab_type": "text"
      },
      "source": [
        "<a href=\"https://colab.research.google.com/github/johnJay1745/CeDeFi/blob/main/SSETH.ipynb\" target=\"_parent\"><img src=\"https://colab.research.google.com/assets/colab-badge.svg\" alt=\"Open In Colab\"/></a>"
      ]
    },
    {
      "cell_type": "code",
      "execution_count": null,
      "metadata": {
        "id": "CTHmh2zp_f_K"
      },
      "outputs": [],
      "source": [
        "import pandas as pd \n",
        "import numpy as np \n",
        "import numpy as np\n",
        "import scipy.stats as st\n",
        "import json\n",
        "import requests\n",
        "import plotly.graph_objects as go\n",
        "import plotly.express as px\n",
        "import matplotlib.pyplot as plt\n",
        "from plotly.subplots import make_subplots\n",
        "import plotly.graph_objects as go\n",
        "import datetime\n",
        "from datetime import datetime"
      ]
    },
    {
      "cell_type": "markdown",
      "source": [],
      "metadata": {
        "id": "kH2oo0-JV8IS"
      }
    },
    {
      "cell_type": "code",
      "source": [
        "def get_hist_apy(pool_id):\n",
        "    data = requests.get(\"https://yields.llama.fi/chart/\" + pool_id)\n",
        "    data_json = data.json() \n",
        "    l = []\n",
        "    for apy in data_json[\"data\"]:\n",
        "        l.append([apy[\"timestamp\"],apy[\"apy\"]])\n",
        "    return pd.DataFrame(l).rename(columns = {0:\"timestamp\",1:\"Annual ROI\"})"
      ],
      "metadata": {
        "id": "HlKQtZu4FkwW"
      },
      "execution_count": null,
      "outputs": []
    },
    {
      "cell_type": "code",
      "source": [
        "def get_coin_price(coin,vs_currency,days):\n",
        "    data = requests.get(\"https://api.coingecko.com/api/v3/coins/\" + \n",
        "                        coin +\n",
        "                        \"/market_chart?vs_currency=\" +\n",
        "                        vs_currency +\n",
        "                        \"&days=\" + \n",
        "                        days)\n",
        "    \n",
        "    data_json = data.json() \n",
        "    price_list = list(np.array(data_json[\"prices\"])[:,1])\n",
        "    return price_list"
      ],
      "metadata": {
        "id": "ha6v9XeN-KFh"
      },
      "execution_count": null,
      "outputs": []
    },
    {
      "cell_type": "code",
      "source": [
        "df = pd.DataFrame()\n",
        "df[\"timestamp\"] = (get_hist_apy\n",
        "                   (\"bd072651-d99c-4154-aeae-51f12109c054\")\n",
        "                   [\"timestamp\"])\n",
        "df[\"ETH_price\"] = get_coin_price(\"ethereum\",\"USD\",f\"{len(df) - 1}\")\n",
        "df[\"Annual ROI, USDC-FRAX, %\"] = (get_hist_apy\n",
        "                                 (\"bd072651-d99c-4154-aeae-51f12109c054\")\n",
        "                                 [\"Annual ROI\"])\n",
        "df[\"Annual ROI, stETH-ETH, %\"] = (get_hist_apy\n",
        "                                 (\"5ce23e7e-3800-4c9c-ad30-6db3db0515a1\")\n",
        "                                 [\"Annual ROI\"])\n",
        "df[\"position_value\"] = position_value(df,2)"
      ],
      "metadata": {
        "id": "aMvaZWh1G0T6"
      },
      "execution_count": null,
      "outputs": []
    },
    {
      "cell_type": "code",
      "source": [
        "def strategy_PnL(df,HF):\n",
        "    returns_list = []\n",
        "    for i in range(len(df) - 1):\n",
        "        USDC_init_price = 1 / df[\"ETH_price\"][i]\n",
        "        USDC_next_price = 1 / df[\"ETH_price\"][i + 1]\n",
        "        short_yearly_ROI = (\n",
        "                            ((USDC_next_price / USDC_init_price) - 1) / \n",
        "                            (2 * HF)\n",
        "                           )\n",
        "\n",
        "        FRAXUSDC_yearly_ROI = df[\"Annual ROI, USDC-FRAX, %\"][i] / (HF * 36500)\n",
        "        stETHETH_yearly_ROI = df[\"Annual ROI, stETH-ETH, %\"][i] / (HF * 36500)\n",
        "        total_yearly_ROI = (\n",
        "                           FRAXUSDC_yearly_ROI + \n",
        "                           stETHETH_yearly_ROI + \n",
        "                           short_yearly_ROI\n",
        "                           )\n",
        "        returns_list.append(total_yearly_ROI)\n",
        "    \n",
        "    return returns_list"
      ],
      "metadata": {
        "id": "r4GS6SpzQfv3"
      },
      "execution_count": null,
      "outputs": []
    },
    {
      "cell_type": "code",
      "source": [
        "def position_value(df,HF):\n",
        "    returns_list = strategy_PnL(df,2)\n",
        "    cum_ret_list = []\n",
        "    init_value = 1\n",
        "\n",
        "    for i in range(len(returns_list)):\n",
        "        init_value = init_value * (1 + returns_list[i])\n",
        "        cum_ret_list.append(init_value)\n",
        "    \n",
        "    cum_ret_list.insert(0,1)\n",
        "    \n",
        "    return cum_ret_list"
      ],
      "metadata": {
        "id": "lvxILROBNkvX"
      },
      "execution_count": null,
      "outputs": []
    },
    {
      "cell_type": "code",
      "source": [
        "fig = make_subplots(specs=[[{\"secondary_y\": True}]])\n",
        "\n",
        "fig.add_trace(\n",
        "    go.Scatter(x = df[\"timestamp\"], \n",
        "               y = df[\"position_value\"],\n",
        "               name = \"Position Value\"),\n",
        "    secondary_y=False,\n",
        ")\n",
        "\n",
        "fig.add_trace(\n",
        "    go.Scatter(x = df[\"timestamp\"], \n",
        "               y = df[\"ETH_price\"],\n",
        "               name = \"ETH price\"),\n",
        "    secondary_y=True,\n",
        ")\n",
        "fig.update_layout(\n",
        "    title = \"SSETH return vs ETH move\",\n",
        "    xaxis_title = \"Time\",\n",
        "    autosize = False,\n",
        "    width = 1000,\n",
        "    height = 500\n",
        ")\n",
        "fig.update_yaxes(title_text=\"ETH price\", secondary_y = True)\n",
        "fig.update_yaxes(title_text=\"Returns\", secondary_y = False)"
      ],
      "metadata": {
        "id": "ewfByY5gPtKf"
      },
      "execution_count": null,
      "outputs": []
    },
    {
      "cell_type": "code",
      "source": [
        "def calc_return_df(pool_id):\n",
        "    df = get_hist_apy(pool_id)\n",
        "    df_2 = pd.DataFrame()\n",
        "    index = range(0,105)\n",
        "    df_2[\"PnL\"] = (\n",
        "                   pd.read_csv(\"/content/Traders Net PnL_2021-08-31_2022-11-11.csv\")\n",
        "                   [-len(df):]\n",
        "                   [\"Net PnL\"]\n",
        "                  )\n",
        "    \n",
        "    df_2[\"AUM\"] = (\n",
        "                   pd.read_csv(\"/content/AUM & Glp Supply_2021-08-31_2022-11-11.csv\")\n",
        "                   [-len(df):]\n",
        "                   [\"aum\"] \n",
        "                  )\n",
        "    \n",
        "    df_2[\"new_index\"] = list(range(0,len(df)))\n",
        "    df_2.set_index(\"new_index\",inplace = True)\n",
        "\n",
        "    df[\"return\"] =   - df_2[\"PnL\"] / df_2[\"AUM\"]\n",
        "    df[\"ETH_price\"] = get_coin_price(\"ethereum\",\"USD\",\"171\")\n",
        "    df[\"Annual ROI\"] /= 100 \n",
        "   \n",
        "    \n",
        "    return df"
      ],
      "metadata": {
        "id": "xnV6RKHej34r"
      },
      "execution_count": null,
      "outputs": []
    },
    {
      "cell_type": "code",
      "source": [
        "pool_weights = {\"stables\":0.50,\n",
        "                \"ETH\": 0.3,\n",
        "                \"BTC\": 0.2,\n",
        "               }"
      ],
      "metadata": {
        "id": "GWhy4PhDbJQy"
      },
      "execution_count": null,
      "outputs": []
    },
    {
      "cell_type": "code",
      "source": [
        "def GLP_strategy_PnL(df,HF,pool_weights):\n",
        "    returns_list = []\n",
        "    for i in range(len(df) - 1):\n",
        "        USDC_init_price = 1 / df[\"ETH_price\"][i]\n",
        "        USDC_next_price = 1 / df[\"ETH_price\"][i + 1]\n",
        "        divisor = (\n",
        "                   pool_weights[\"stables\"] / \n",
        "                   (pool_weights[\"stables\"] \n",
        "                    + pool_weights[\"ETH\"])\n",
        "                  ) * 1 / HF\n",
        "        \n",
        "        short_ROI = ((USDC_next_price / USDC_init_price) - 1) / divisor\n",
        "                            \n",
        "\n",
        "        GLP_fee_ROI = df[\"Annual ROI\"][i] / (HF * 365)\n",
        "        GLP_PnL_ROI = df[\"return\"][i] / HF\n",
        "        total_ROI = (\n",
        "                     GLP_fee_ROI + \n",
        "                     GLP_PnL_ROI + \n",
        "                     short_ROI\n",
        "                    )\n",
        "        returns_list.append(total_ROI)\n",
        "    \n",
        "    return returns_list"
      ],
      "metadata": {
        "id": "JNB-uWOngZ0a"
      },
      "execution_count": null,
      "outputs": []
    },
    {
      "cell_type": "code",
      "source": [
        "def pos_value(df,HF,pool_weights):\n",
        "    data_frame = df\n",
        "    returns_list = GLP_strategy_PnL(df,HF,pool_weights)\n",
        "    cum_ret_list = []\n",
        "    init_value = 1\n",
        "\n",
        "    for i in range(len(returns_list)):\n",
        "        init_value = (init_value * \n",
        "                      (1 + returns_list[i] / \n",
        "                       (1 + pool_weights[\"BTC\"] / \n",
        "                        HF\n",
        "                       )\n",
        "                      )\n",
        "                     )\n",
        "        cum_ret_list.append(init_value)\n",
        "    \n",
        "    cum_ret_list.insert(0,1)\n",
        "    data_frame[\"cum_returns\"] = cum_ret_list\n",
        "    \n",
        "    return df"
      ],
      "metadata": {
        "id": "Hmlwnccn3ce0"
      },
      "execution_count": null,
      "outputs": []
    },
    {
      "cell_type": "code",
      "source": [
        "pos_value(calc_return_df(\"6a3ddb91-0638-4454-97c1-86dc6d59f32c\"),2,pool_weights)"
      ],
      "metadata": {
        "id": "BeFL0d7_4Bht"
      },
      "execution_count": null,
      "outputs": []
    },
    {
      "cell_type": "code",
      "source": [
        "fig = make_subplots(specs=[[{\"secondary_y\": True}]])\n",
        "\n",
        "fig.add_trace(\n",
        "    go.Scatter(x = pos_value(calc_return_df\n",
        "                             (\"6a3ddb91-0638-4454-97c1-86dc6d59f32c\"),\n",
        "                             2,\n",
        "                             pool_weights)\n",
        "                             [\"timestamp\"], \n",
        "               y = pos_value(calc_return_df\n",
        "                (\"6a3ddb91-0638-4454-97c1-86dc6d59f32c\"),\n",
        "                2,\n",
        "                pool_weights)\n",
        "               [\"cum_returns\"],\n",
        "               name = \"Position Value\"),\n",
        "              secondary_y=False,\n",
        "             )\n",
        "\n",
        "fig.add_trace(\n",
        "    go.Scatter(x = pos_value(calc_return_df\n",
        "                             (\"6a3ddb91-0638-4454-97c1-86dc6d59f32c\"),\n",
        "                             2,pool_weights)[\"timestamp\"], \n",
        "               y = pos_value(calc_return_df\n",
        "                             (\"6a3ddb91-0638-4454-97c1-86dc6d59f32c\"),\n",
        "                             2,pool_weights)[\"ETH_price\"],\n",
        "               name = \"ETH price\"),\n",
        "    secondary_y=True,\n",
        ")\n",
        "fig.update_layout(\n",
        "    title = \"SSETH (via GLP) return vs ETH move\",\n",
        "    xaxis_title = \"Time\",\n",
        "    autosize = False,\n",
        "    width = 1000,\n",
        "    height = 500\n",
        ")\n",
        "fig.update_yaxes(title_text=\"ETH price\", secondary_y = True)\n",
        "fig.update_yaxes(title_text=\"Returns\", secondary_y = False)"
      ],
      "metadata": {
        "id": "E9ay0-vGlMpg"
      },
      "execution_count": null,
      "outputs": []
    },
    {
      "cell_type": "code",
      "source": [],
      "metadata": {
        "id": "LPN11Ht0-g9a"
      },
      "execution_count": null,
      "outputs": []
    }
  ]
}