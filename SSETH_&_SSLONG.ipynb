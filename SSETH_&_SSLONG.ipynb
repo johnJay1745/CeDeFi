{
  "nbformat": 4,
  "nbformat_minor": 0,
  "metadata": {
    "colab": {
      "private_outputs": true,
      "provenance": [],
      "authorship_tag": "ABX9TyO8mAE9D5kObFKitSK92xpc",
      "include_colab_link": true
    },
    "kernelspec": {
      "name": "python3",
      "display_name": "Python 3"
    },
    "language_info": {
      "name": "python"
    }
  },
  "cells": [
    {
      "cell_type": "markdown",
      "metadata": {
        "id": "view-in-github",
        "colab_type": "text"
      },
      "source": [
        "<a href=\"https://colab.research.google.com/github/johnJay1745/CeDeFi/blob/main/SSETH_%26_SSLONG.ipynb\" target=\"_parent\"><img src=\"https://colab.research.google.com/assets/colab-badge.svg\" alt=\"Open In Colab\"/></a>"
      ]
    },
    {
      "cell_type": "code",
      "execution_count": null,
      "metadata": {
        "id": "CTHmh2zp_f_K"
      },
      "outputs": [],
      "source": [
        "import pandas as pd \n",
        "import numpy as np \n",
        "import numpy as np\n",
        "import scipy.stats as st\n",
        "import json\n",
        "import requests\n",
        "import plotly.graph_objects as go\n",
        "import plotly.express as px\n",
        "import matplotlib.pyplot as plt\n",
        "from plotly.subplots import make_subplots\n",
        "import plotly.graph_objects as go\n",
        "import datetime\n",
        "from datetime import datetime"
      ]
    },
    {
      "cell_type": "code",
      "source": [
        "pool_ids = {\n",
        "    \"Uni_V3_rETH-ETH\": \"5685fa0d-a7cf-4b60-9b77-ff23b4583f81\",\n",
        "    \"Convex_FRAX-USDC\":\"844a8a29-4653-42e6-b675-a6b43fac3678\",\n",
        "    \"ETH_AAVE\": \"f2726d05-1f8d-4b9c-80e3-43d03d85d117\",\n",
        "    \"USDC_AAVE\": \"a349fea4-d780-4e16-973e-70ca9b606db2\"\n",
        "}"
      ],
      "metadata": {
        "id": "3c5MD59vr3BB"
      },
      "execution_count": null,
      "outputs": []
    },
    {
      "cell_type": "markdown",
      "source": [],
      "metadata": {
        "id": "kH2oo0-JV8IS"
      }
    },
    {
      "cell_type": "code",
      "source": [
        "def get_hist_apy(pool_id):\n",
        "    data = requests.get(\"https://yields.llama.fi/chart/\" + pool_id)\n",
        "    data_json = data.json() \n",
        "    l = []\n",
        "    for apy in data_json[\"data\"]:\n",
        "        l.append([apy[\"timestamp\"],apy[\"apy\"]])\n",
        "    return pd.DataFrame(l).rename(columns = {0:\"timestamp\",1:\"annual_ROI\"})"
      ],
      "metadata": {
        "id": "HlKQtZu4FkwW"
      },
      "execution_count": null,
      "outputs": []
    },
    {
      "cell_type": "code",
      "source": [
        "def get_coin_price(coin,vs_currency,days):\n",
        "    data = requests.get(\"https://api.coingecko.com/api/v3/coins/\" + \n",
        "                        coin +\n",
        "                        \"/market_chart?vs_currency=\" +\n",
        "                        vs_currency +\n",
        "                        \"&days=\" + \n",
        "                        days)\n",
        "    price_list = list(np.array(data.json()[\"prices\"])[:,1])\n",
        "    return pd.DataFrame(price_list)"
      ],
      "metadata": {
        "id": "ha6v9XeN-KFh"
      },
      "execution_count": null,
      "outputs": []
    },
    {
      "cell_type": "code",
      "source": [
        "def get_leverage_ratio(coin,vs_currency,days):\n",
        "    leverage_ratios = []\n",
        "    df = pd.DataFrame(get_coin_price(coin,vs_currency,days))\n",
        "    for i in range(len(df)):\n",
        "        ETH_ratio = 0.25\n",
        "        ETH_ratio = ETH_ratio * (df[0][i] / df[0][0])\n",
        "        leverage_ratio = ETH_ratio / 1\n",
        "        leverage_ratios.append(leverage_ratio)\n",
        "    return pd.DataFrame(leverage_ratios)"
      ],
      "metadata": {
        "id": "HzGjjpSz8RlD"
      },
      "execution_count": null,
      "outputs": []
    },
    {
      "cell_type": "code",
      "source": [
        "def get_HF_SLETH(coin,vs_currency,days,HF):\n",
        "    HF_list = []\n",
        "    df = 1 / pd.DataFrame(get_coin_price(coin,vs_currency,days))\n",
        "    for i in range(len(df)):\n",
        "       current_HF = HF\n",
        "       current_HF = current_HF * (df[0][0] / df[0][i])\n",
        "       HF_list.append(current_HF)\n",
        "    return HF_list"
      ],
      "metadata": {
        "id": "Bge8omU2esoz"
      },
      "execution_count": null,
      "outputs": []
    },
    {
      "cell_type": "code",
      "source": [
        "def SSETH_yield_df(HF,coin,vs_currency,days):\n",
        "    df = pd.DataFrame()\n",
        "    df[\"Time\"] = get_hist_apy(pool_ids[\"Uni_V3_rETH-ETH\"])[\"timestamp\"]\n",
        "    df[\"UNI_V3_returns\"] = (get_hist_apy(pool_ids[\"Uni_V3_rETH-ETH\"])\n",
        "                           [\"annual_ROI\"])\n",
        "    df[\"FRAX-USDC_returns\"] = (get_hist_apy(pool_ids[\"Convex_FRAX-USDC\"])\n",
        "                               [\"annual_ROI\"])\n",
        "    df[\"USDC_AAVE_returns\"] = get_hist_apy(pool_ids[\"USDC_AAVE\"])[\"annual_ROI\"]\n",
        "    df[\"ETH_AAVE_cost\"] =  (- get_hist_apy(pool_ids[\"ETH_AAVE\"])\n",
        "                               [\"annual_ROI\"] / \n",
        "                               0.9)\n",
        "    return df"
      ],
      "metadata": {
        "id": "t6JxWh2zn8IE"
      },
      "execution_count": null,
      "outputs": []
    },
    {
      "cell_type": "code",
      "source": [
        "def SSETH_daily_yield(HF,coin,vs_currency,days):\n",
        "    df = SSETH_yield_df(HF,coin,vs_currency,days)\n",
        "    df[\"Daily_yield\"] = (df[\"UNI_V3_returns\"] * \n",
        "                         (get_leverage_ratio(coin,vs_currency,days)[0]) +\n",
        "                         df[\"USDC_AAVE_returns\"] + \n",
        "                         df[\"ETH_AAVE_cost\"] * \n",
        "                         (2 * get_leverage_ratio(coin,vs_currency,days)[0]) + \n",
        "                         df[\"FRAX-USDC_returns\"] * \n",
        "                         (0.5 / HF)\n",
        "                        ) / 365\n",
        "    return df"
      ],
      "metadata": {
        "id": "jBWvn_llIJO-"
      },
      "execution_count": null,
      "outputs": []
    },
    {
      "cell_type": "code",
      "source": [
        "def SSETH_price_move_ROI(coin,vs_currency,days,HF):\n",
        "    df = pd.DataFrame()\n",
        "    df[coin + \"_price\"] = get_coin_price(coin,vs_currency,days)\n",
        "    df[\"Price_change\"] = ((1 / df[coin + \"_price\"].shift(-1)) / \n",
        "                         (1 / df[coin + \"_price\"])) - 1\n",
        "    df[\"PnL_ROI\"] = df[\"Price_change\"] * (0.5 / HF)\n",
        "    return df"
      ],
      "metadata": {
        "id": "z-LqJDCnnuYP"
      },
      "execution_count": null,
      "outputs": []
    },
    {
      "cell_type": "code",
      "source": [
        "def SSETH_total_return(coin,vs_currency,days,HF,pool_ids):\n",
        "    l = []\n",
        "    strategy_return = (SSETH_price_move_ROI(coin,vs_currency,days,HF)\n",
        "                       [\"PnL_ROI\"] + \n",
        "                       SSETH_daily_yield(HF,coin,vs_currency,days)\n",
        "                       [\"Daily_yield\"])\n",
        "    for i in range(len(strategy_return)): \n",
        "        init_value = 1\n",
        "        init_value = init_value * (1 + strategy_return[i])\n",
        "        l.append(init_value)\n",
        "                                   \n",
        "    return pd.DataFrame(l)"
      ],
      "metadata": {
        "id": "r4GS6SpzQfv3"
      },
      "execution_count": null,
      "outputs": []
    },
    {
      "cell_type": "code",
      "source": [
        "fig = make_subplots(specs=[[{\"secondary_y\": True}]])\n",
        "\n",
        "fig.add_trace(\n",
        "    go.Scatter(x = SSETH_daily_yield(2,\"ethereum\",\"USD\",\"229\")[\"Time\"], \n",
        "               y = SSETH_total_return(\"ethereum\",\"USD\",\"229\",2,pool_ids)[0],\n",
        "               name = \"Position value (Short)\"),\n",
        "    secondary_y=False,\n",
        ")\n",
        "\n",
        "fig.add_trace(\n",
        "    go.Scatter(x = SSETH_daily_yield(2,\"ethereum\",\"USD\",\"229\")[\"Time\"], \n",
        "               y = get_coin_price(\"ethereum\",\"USD\",\"229\")[0],\n",
        "               name = \"ETH price\"),\n",
        "    secondary_y=True,\n",
        ")\n",
        "fig.update_layout(\n",
        "    title = \"SSETH return vs ETH price\",\n",
        "    yaxis_range = [0.85,1.15]\n",
        "    # autosize = False,\n",
        "    # width = 1000,\n",
        "    # height = 500\n",
        ")\n",
        "fig.update_yaxes(title_text=\"ETH price\", secondary_y = True)\n",
        "fig.update_yaxes(title_text=\"Returns\", secondary_y = False)"
      ],
      "metadata": {
        "id": "ewfByY5gPtKf"
      },
      "execution_count": null,
      "outputs": []
    },
    {
      "cell_type": "code",
      "source": [
        "def SLETH_yield_df(HF):\n",
        "    df = pd.DataFrame()\n",
        "    df[\"Time\"] = get_hist_apy(pool_ids[\"Uni_V3_rETH-ETH\"])[\"timestamp\"]\n",
        "    df[\"UNI_V3_returns\"] = (get_hist_apy(pool_ids[\"Uni_V3_rETH-ETH\"])\n",
        "                           [\"annual_ROI\"]) \n",
        "    df[\"ETH_AAVE_returns\"] = get_hist_apy(pool_ids[\"ETH_AAVE\"])[\"annual_ROI\"]\n",
        "    df[\"USDC_borrow_cost\"] =  (- get_hist_apy(pool_ids[\"USDC_AAVE\"])\n",
        "                               [\"annual_ROI\"] / \n",
        "                               0.9) \n",
        "    return df"
      ],
      "metadata": {
        "id": "Uetlm-Zt8N1i"
      },
      "execution_count": null,
      "outputs": []
    },
    {
      "cell_type": "code",
      "source": [
        "def SLETH_daily_yield(HF):\n",
        "    df = SLETH_yield_df(HF)\n",
        "    return (df[\"UNI_V3_returns\"] * \n",
        "            (1 / HF) +\n",
        "            df[\"ETH_AAVE_returns\"] + \n",
        "            df[\"USDC_borrow_cost\"] * \n",
        "            (1 / HF)\n",
        "           ) / 365"
      ],
      "metadata": {
        "id": "bhbZ5LM8KDDQ"
      },
      "execution_count": null,
      "outputs": []
    },
    {
      "cell_type": "code",
      "source": [
        "def SLETH_price_move_ROI(coin,vs_currency,days,HF):\n",
        "    df = pd.DataFrame()\n",
        "    df[coin + \"_price\"] = get_coin_price(coin,vs_currency,days)\n",
        "    df[\"PnL_ROI\"] = ((df[coin + \"_price\"].shift(-1) / df[coin + \"_price\"]) - \n",
        "                     1) * (1 / HF)\n",
        "    return df"
      ],
      "metadata": {
        "id": "cg8QQQZFDbF7"
      },
      "execution_count": null,
      "outputs": []
    },
    {
      "cell_type": "code",
      "source": [
        "def SLETH_total_return(coin,vs_currency,days,HF,pool_ids):\n",
        "    l = []\n",
        "    strategy_return = (SLETH_price_move_ROI(coin,vs_currency,days,HF)\n",
        "                       [\"PnL_ROI\"] + \n",
        "                       SLETH_daily_yield(HF))\n",
        "\n",
        "    for i in range(len(strategy_return)): \n",
        "        init_value = 1\n",
        "        init_value = init_value * (1 + strategy_return[i])\n",
        "        l.append(init_value)\n",
        "           \n",
        "    return [l,strategy_return]"
      ],
      "metadata": {
        "id": "MIzuhDsfEBNd"
      },
      "execution_count": null,
      "outputs": []
    },
    {
      "cell_type": "code",
      "source": [
        "def rebalance(HF,price_impact,coin,vs_currency,days):\n",
        "    df = pd.DataFrame()\n",
        "    df[\"strategy_return\"] = (SLETH_total_return\n",
        "                             (coin,vs_currency,days,HF,pool_ids)\n",
        "                             [0])\n",
        "    df[\"HF\"] = get_HF_SLETH(coin,vs_currency,days,HF)\n",
        "    for i in range(len(df)):\n",
        "        optimal_HF = HF\n",
        "        if df[\"HF\"][i] <= optimal_HF * (1.5 / 2):\n",
        "             df[\"strategy_return\"][i] = (df[\"strategy_return\"][i] * \n",
        "                                         (1 + price_impact) * \n",
        "                                         (1 - df[\"strategy_return\"][i] \n",
        "                                          / optimal_HF))\n",
        "             optimal_HF = df[\"strategy_return\"][i]\n",
        "        elif df[\"HF\"][i] >= optimal_HF * (2.15 / 2):\n",
        "             df[\"strategy_return\"][i] = (df[\"strategy_return\"][i] * \n",
        "                                         (1 + price_impact) * \n",
        "                                         (df[\"strategy_return\"][i] \n",
        "                                          / optimal_HF  \n",
        "                                          - 1))\n",
        "             optimal_HF = df[\"strategy_return\"][i]\n",
        "    return df"
      ],
      "metadata": {
        "id": "2vzNe13Bllsl"
      },
      "execution_count": null,
      "outputs": []
    },
    {
      "cell_type": "code",
      "source": [
        "rebalance(2,-0.003,\"ethereum\",\"USD\",\"229\")"
      ],
      "metadata": {
        "id": "CJs3Udt3hgZ8"
      },
      "execution_count": null,
      "outputs": []
    },
    {
      "cell_type": "code",
      "source": [
        "fig = make_subplots(specs=[[{\"secondary_y\": True}]])\n",
        "fig.add_trace(\n",
        "    go.Scatter(x = SLETH_yield_df(2)[\"Time\"], \n",
        "               y = SLETH_total_return(\"ethereum\",\n",
        "                                   \"USD\",\n",
        "                                   f\"{len(SLETH_yield_df(2))}\",\n",
        "                                   2,pool_ids)[0],\n",
        "               name = \"Position value (Long)\"),\n",
        "    secondary_y = False\n",
        ")\n",
        "\n",
        "fig.add_trace(\n",
        "    go.Scatter(x = SLETH_yield_df(2)[\"Time\"], \n",
        "               y = SLETH_price_move_ROI(\"ethereum\",\n",
        "                                     \"USD\",\n",
        "                                     f\"{len(SLETH_yield_df(2))}\",\n",
        "                                     2)[\"ethereum_price\"],\n",
        "               name = \"ETH price\"),\n",
        "    secondary_y = True\n",
        ")\n",
        "\n",
        "fig.update_layout(\n",
        "    title = \"SLETH return vs ETH price\"\n",
        "    # xaxis_title = \"Time\"\n",
        "    # autosize = False,\n",
        "    # width = 1000,\n",
        "    # height = 500\n",
        ")\n",
        "fig.update_yaxes(title_text=\"ETH price\", secondary_y = True)\n",
        "fig.update_yaxes(title_text=\"Return\", secondary_y = False)"
      ],
      "metadata": {
        "id": "-MIIZvbOILX3"
      },
      "execution_count": null,
      "outputs": []
    },
    {
      "cell_type": "code",
      "source": [
        "def get_data_frame():\n",
        "    df = pd.DataFrame()\n",
        "    # df[\"Time\"] = SLETH_yield_df(2)[\"Time\"]\n",
        "    df[\"SLETH_retun\"] = SLETH_total_return(\n",
        "                        \"ethereum\",\n",
        "                        \"USD\",\n",
        "                        f\"{len(SLETH_yield_df(2))}\",\n",
        "                        2,pool_ids)[0]\n",
        "    df[\"SSETH_return\"] = SSETH_total_return(\n",
        "                         \"ethereum\",\n",
        "                         \"USD\",\n",
        "                         \"229\",\n",
        "                         2,\n",
        "                         pool_ids)[0]\n",
        "    return df.to_csv(\"SSETH/SLETH_returns_csv.csv\")"
      ],
      "metadata": {
        "id": "El6XtXt8AQwK"
      },
      "execution_count": null,
      "outputs": []
    },
    {
      "cell_type": "code",
      "source": [
        "get_data_frame()"
      ],
      "metadata": {
        "id": "4r53IYDvCoug"
      },
      "execution_count": null,
      "outputs": []
    },
    {
      "cell_type": "code",
      "source": [],
      "metadata": {
        "id": "7zCJ_O9UDl-v"
      },
      "execution_count": null,
      "outputs": []
    }
  ]
}