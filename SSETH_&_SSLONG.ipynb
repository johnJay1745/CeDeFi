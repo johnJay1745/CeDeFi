{
  "nbformat": 4,
  "nbformat_minor": 0,
  "metadata": {
    "colab": {
      "private_outputs": true,
      "provenance": [],
      "authorship_tag": "ABX9TyMlfsJuZEGXQjQylgGFDa+d",
      "include_colab_link": true
    },
    "kernelspec": {
      "name": "python3",
      "display_name": "Python 3"
    },
    "language_info": {
      "name": "python"
    }
  },
  "cells": [
    {
      "cell_type": "markdown",
      "metadata": {
        "id": "view-in-github",
        "colab_type": "text"
      },
      "source": [
        "<a href=\"https://colab.research.google.com/github/johnJay1745/CeDeFi/blob/main/SSETH_%26_SSLONG.ipynb\" target=\"_parent\"><img src=\"https://colab.research.google.com/assets/colab-badge.svg\" alt=\"Open In Colab\"/></a>"
      ]
    },
    {
      "cell_type": "code",
      "execution_count": null,
      "metadata": {
        "id": "CTHmh2zp_f_K"
      },
      "outputs": [],
      "source": [
        "import pandas as pd \n",
        "import numpy as np \n",
        "import numpy as np\n",
        "import scipy.stats as st\n",
        "import json\n",
        "import requests\n",
        "import plotly.graph_objects as go\n",
        "import plotly.express as px\n",
        "import matplotlib.pyplot as plt\n",
        "from plotly.subplots import make_subplots\n",
        "import plotly.graph_objects as go\n",
        "import datetime\n",
        "from datetime import datetime"
      ]
    },
    {
      "cell_type": "code",
      "source": [
        "pool_ids = {\n",
        "    \"Uni_V3_rETH-ETH\": \"5685fa0d-a7cf-4b60-9b77-ff23b4583f81\",\n",
        "    \"Convex_FRAX-USDC\":\"844a8a29-4653-42e6-b675-a6b43fac3678\",\n",
        "    \"ETH_AAVE\": \"f2726d05-1f8d-4b9c-80e3-43d03d85d117\",\n",
        "    \"USDC_AAVE\": \"a349fea4-d780-4e16-973e-70ca9b606db2\"\n",
        "}"
      ],
      "metadata": {
        "id": "3c5MD59vr3BB"
      },
      "execution_count": null,
      "outputs": []
    },
    {
      "cell_type": "markdown",
      "source": [],
      "metadata": {
        "id": "kH2oo0-JV8IS"
      }
    },
    {
      "cell_type": "code",
      "source": [
        "def get_hist_apy(pool_id):\n",
        "    data = requests.get(\"https://yields.llama.fi/chart/\" + pool_id)\n",
        "    data_json = data.json() \n",
        "    l = []\n",
        "    for apy in data_json[\"data\"]:\n",
        "        l.append([apy[\"timestamp\"],apy[\"apy\"]])\n",
        "    return pd.DataFrame(l).rename(columns = {0:\"timestamp\",1:\"annual_ROI\"})"
      ],
      "metadata": {
        "id": "HlKQtZu4FkwW"
      },
      "execution_count": null,
      "outputs": []
    },
    {
      "cell_type": "code",
      "source": [
        "def get_coin_price(coin,vs_currency,days):\n",
        "    data = requests.get(\n",
        "    \"https://api.coingecko.com/api/v3/coins/\" + \n",
        "    coin +\n",
        "    \"/market_chart?vs_currency=\" +\n",
        "    vs_currency +\n",
        "    \"&days=\" + \n",
        "    days\n",
        "    )\n",
        "    price_list = list(np.array(data.json()[\"prices\"])[:,1])\n",
        "    return price_list"
      ],
      "metadata": {
        "id": "ha6v9XeN-KFh"
      },
      "execution_count": null,
      "outputs": []
    },
    {
      "cell_type": "code",
      "source": [
        "# def get_leverage_ratio():\n",
        "#     leverage_ratios = []\n",
        "#     df = pd.DataFrame(get_coin_price(\"ethereum\",\"USD\",\"233\"))\n",
        "#     for i in range(len(df)):\n",
        "#         ETH_ratio = 0.25\n",
        "#         USDC_ratio = 0.5\n",
        "#         ETH_ratio = ETH_ratio * (df[0][i] / df[0][0])\n",
        "#         USDC_ratio = USDC_ratio * (df[0][0] / df[0][i])\n",
        "#         leverage_ratios.append([ETH_ratio,USDC_ratio])\n",
        "#     return (\n",
        "#     pd.DataFrame(leverage_ratios).\n",
        "#     rename(columns = {0:\"ETH_ratio\",1:\"USDC_ratio\"})\n",
        "#     )"
      ],
      "metadata": {
        "id": "HzGjjpSz8RlD"
      },
      "execution_count": null,
      "outputs": []
    },
    {
      "cell_type": "code",
      "source": [
        "def get_HF(HF):\n",
        "    HF_list = []\n",
        "    df = get_coin_price(\"ethereum\",\"USD\",\"234\")\n",
        "    for i in range(len(df)):\n",
        "       current_SLETH_HF = (df[i] / df[0]) / (1 / HF)\n",
        "       current_SSETH_HF = (df[0] / df[i]) / (1 / HF)\n",
        "       HF_list.append([current_SLETH_HF,current_SSETH_HF])\n",
        "\n",
        "    return pd.DataFrame(HF_list)"
      ],
      "metadata": {
        "id": "Bge8omU2esoz"
      },
      "execution_count": null,
      "outputs": []
    },
    {
      "cell_type": "code",
      "source": [
        "def get_yield_info(pool_ids):\n",
        "    df = pd.DataFrame()\n",
        "    df[\"Time\"] = get_hist_apy(pool_ids[\"Uni_V3_rETH-ETH\"])[\"timestamp\"]\n",
        "    \n",
        "    df[\"UNI_V3_returns\"] = (\n",
        "    get_hist_apy(pool_ids[\"Uni_V3_rETH-ETH\"])[\"annual_ROI\"] / 36500\n",
        "    ) \n",
        "\n",
        "    df[\"FRAX-USDC_returns\"] = (\n",
        "    get_hist_apy(pool_ids[\"Convex_FRAX-USDC\"])[\"annual_ROI\"] / 36500\n",
        "    ) \n",
        "\n",
        "    df[\"USDC_AAVE_returns\"] = (\n",
        "    get_hist_apy(pool_ids[\"USDC_AAVE\"])[\"annual_ROI\"] / 36500\n",
        "    )\n",
        "    df[\"ETH_AAVE_returns\"] =  (\n",
        "    get_hist_apy(pool_ids[\"ETH_AAVE\"])[\"annual_ROI\"] / 36500\n",
        "    )\n",
        "\n",
        "    return df"
      ],
      "metadata": {
        "id": "t6JxWh2zn8IE"
      },
      "execution_count": null,
      "outputs": []
    },
    {
      "cell_type": "code",
      "source": [
        "def get_yield_APR(HF,pool_ids):\n",
        "    df = get_yield_info(pool_ids)\n",
        "    \n",
        "    df[\"SSETH_yield_APR\"] = (\n",
        "    df[\"UNI_V3_returns\"] * \n",
        "    0.25 +\n",
        "    df[\"USDC_AAVE_returns\"] -\n",
        "    df[\"ETH_AAVE_returns\"] * \n",
        "    (1 / 0.9) *\n",
        "    0.5 + \n",
        "    df[\"FRAX-USDC_returns\"] * \n",
        "    (0.5 / HF)\n",
        "    ) \n",
        "\n",
        "    df[\"SLETH_yield_APR\"] = (\n",
        "    df[\"UNI_V3_returns\"] * \n",
        "    0.5 +\n",
        "    df[\"ETH_AAVE_returns\"] -\n",
        "    df[\"USDC_AAVE_returns\"] * \n",
        "    (1 / 0.9) * \n",
        "    0.5\n",
        "    ) \n",
        "\n",
        "    return df"
      ],
      "metadata": {
        "id": "jBWvn_llIJO-"
      },
      "execution_count": null,
      "outputs": []
    },
    {
      "cell_type": "code",
      "source": [
        "def rebalance(HF,pool_ids,strat_id):\n",
        "    df = pd.DataFrame()\n",
        "    realised_PnL_pct = []\n",
        "\n",
        "    df[\"Time\"] = get_yield_APR(HF,pool_ids)[\"Time\"]\n",
        "    df[\"ETH_price\"] = get_coin_price(\"ethereum\",\"USD\",\"233\")\n",
        "    df[\"HF\"] = get_HF(2)[strat_id]\n",
        "    df[\"SLETH_yield_APR\"] = get_yield_APR(HF,pool_ids)[\"SLETH_yield_APR\"]\n",
        "    df[\"SSETH_yield_APR\"] = get_yield_APR(HF,pool_ids)[\"SSETH_yield_APR\"]\n",
        "    optimal_HFs = []\n",
        "    for i in range(len(df)):\n",
        "        optimal_HF = HF\n",
        "        start_index = 0\n",
        "        if strat_id == 0: \n",
        "            if df[\"HF\"][i] <= optimal_HF / 0.875:\n",
        "               strategy_return = (\n",
        "               sum(df[\"SLETH_yield_APR\"][start_index:i+1]) +\n",
        "               (df[\"ETH_price\"][i] / df[\"ETH_price\"][start_index] - 1) *\n",
        "               0.5 \n",
        "               )\n",
        "               start_index +=(i - start_index)\n",
        "               optimal_HF = df[\"HF\"][i] \n",
        "               optimal_HFs.append(optimal_HF)\n",
        "               realised_PnL_pct.append(\n",
        "               [df[\"Time\"][i],strategy_return,df[\"ETH_price\"][i]]\n",
        "               )\n",
        "\n",
        "            elif df[\"HF\"][i] >= optimal_HF * 2.15:\n",
        "                strategy_return = (\n",
        "                sum(df[\"SLETH_yield_APR\"][start_index:i+1]) +\n",
        "                (df[\"ETH_price\"][i] / df[\"ETH_price\"][start_index] - 1) *\n",
        "                0.5 \n",
        "                )\n",
        "                start_index += (i - start_index)\n",
        "                optimal_HF = df[\"HF\"][i]\n",
        "                optimal_HFs.append(optimal_HF)\n",
        "                realised_PnL_pct.append(\n",
        "                [df[\"Time\"][i],strategy_return,df[\"ETH_price\"][i]]\n",
        "                )\n",
        "        else:\n",
        "            if df[\"HF\"][i] <= optimal_HF / 0.875:\n",
        "               strategy_return = (\n",
        "               sum(df[\"SLETH_yield_APR\"][start_index:i+1]) + \n",
        "               (df[\"ETH_price\"][start_index] / df[\"ETH_price\"][i] - 1) *\n",
        "               0.25 \n",
        "               )\n",
        "               start_index = (i - start_index)\n",
        "               optimal_HF = df[\"HF\"][i]\n",
        "               optimal_HFs.append(optimal_HF) \n",
        "               realised_PnL_pct.append(\n",
        "               [df[\"Time\"][i],strategy_return,df[\"ETH_price\"][i]]\n",
        "               )\n",
        "               \n",
        "            elif df[\"HF\"][i] >= optimal_HF * 2.15:\n",
        "                strategy_return = (\n",
        "                sum(df[\"SLETH_yield_APR\"][start_index:i+1]) + \n",
        "                (df[\"ETH_price\"][start_index] / df[\"ETH_price\"][i] - 1) *\n",
        "                0.25 \n",
        "                )\n",
        "                start_index +=(i - start_index)\n",
        "                optimal_HF = df[\"HF\"][i] \n",
        "                optimal_HFs.append(optimal_HF)\n",
        "                realised_PnL_pct.append(\n",
        "                [df[\"Time\"][i],strategy_return,df[\"ETH_price\"][i]]\n",
        "                )\n",
        "            \n",
        "            \n",
        "    return pd.DataFrame(realised_PnL_pct)"
      ],
      "metadata": {
        "id": "XZHEkvbMbn7h"
      },
      "execution_count": null,
      "outputs": []
    },
    {
      "cell_type": "code",
      "source": [
        "def share_price(df):\n",
        "    share_prices = []\n",
        "    for i in range(len(df)):\n",
        "        init_price = 1\n",
        "        init_price *= (1 + df[1][i])\n",
        "        share_prices.append(init_price)\n",
        "    return share_prices"
      ],
      "metadata": {
        "id": "cyI3zwCiWxck"
      },
      "execution_count": null,
      "outputs": []
    },
    {
      "cell_type": "code",
      "source": [
        "fig = make_subplots(specs=[[{\"secondary_y\": True}]])\n",
        "\n",
        "fig.add_trace(\n",
        "    go.Scatter(x = rebalance(2,pool_ids,1)[0], \n",
        "               y = share_price(rebalance(2,pool_ids,1)),\n",
        "               name = \"Position value (Short)\"),\n",
        "    secondary_y=False,\n",
        ")\n",
        "\n",
        "fig.add_trace(\n",
        "    go.Scatter(x = rebalance(2,pool_ids,1)[0], \n",
        "               y = rebalance(2,pool_ids,1)[2],\n",
        "               name = \"ETH price\"),\n",
        "    secondary_y=True,\n",
        ")\n",
        "fig.update_layout(\n",
        "    title = \"SSETH return vs ETH price\",\n",
        "    yaxis_range = [0.5,3]\n",
        "    # autosize = False,\n",
        "    # width = 1000,\n",
        "    # height = 500\n",
        ")\n",
        "fig.update_yaxes(title_text=\"ETH price\", secondary_y = True)\n",
        "fig.update_yaxes(title_text=\"Returns\", secondary_y = False)"
      ],
      "metadata": {
        "id": "ewfByY5gPtKf"
      },
      "execution_count": null,
      "outputs": []
    }
  ]
}